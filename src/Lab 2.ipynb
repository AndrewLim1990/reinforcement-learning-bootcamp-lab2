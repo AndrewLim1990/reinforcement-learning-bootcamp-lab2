{
 "cells": [
  {
   "cell_type": "code",
   "execution_count": 1,
   "metadata": {
    "collapsed": true
   },
   "outputs": [],
   "source": [
    "\"\"\"\n",
    "This project was developed by Peter Chen, Rocky Duan, Pieter Abbeel for the Berkeley Deep RL Bootcamp, August 2017.\n",
    "Bootcamp website with slides and lecture videos: https://sites.google.com/view/deep-rl-bootcamp/.\n",
    "\n",
    "Code adapted from Stanford CS231N materials: http://cs231n.stanford.edu/\n",
    "\"\"\"\n",
    "\n",
    "\n",
    "# note to properly run this lab, you should execute all code blocks sequentially\n",
    "import chainer\n",
    "import chainer.functions as F\n",
    "import chainer.links as L\n",
    "from chainer import training\n",
    "from chainer.training import extensions\n",
    "\n",
    "from collections import namedtuple, defaultdict, deque\n",
    "\n",
    "import numpy as np\n",
    "\n",
    "%matplotlib inline\n",
    "\n",
    "import matplotlib\n",
    "import matplotlib.pyplot as plt"
   ]
  },
  {
   "cell_type": "markdown",
   "metadata": {},
   "source": [
    "## Introduction to Chainer\n",
    "\n",
    "Chainer can be understood as Numpy plus the ability to record the computation graph of numerical operations to enable Automatic Differentiation. (Chainer actually also offers many other things; for example, a Numpy equivalent library that runs on GPU, but we will ignore them for now)"
   ]
  },
  {
   "cell_type": "markdown",
   "metadata": {},
   "source": [
    "Let's illustrate how Chainer works by a simple 1D regression task.\n",
    "\n",
    "Suppose we have observations from the following model $y = w x + b + \\epsilon$ where $\\epsilon \\sim \\mathcal{N}(0, 0.1)$ and the task is to estimate the linear model parameters $w, b$ from data."
   ]
  },
  {
   "cell_type": "code",
   "execution_count": 2,
   "metadata": {},
   "outputs": [
    {
     "data": {
      "image/png": "[encoded data removed]",
      "text/plain": [
       "<matplotlib.figure.Figure at 0x10938df28>"
      ]
     },
     "metadata": {},
     "output_type": "display_data"
    }
   ],
   "source": [
    "# first generate some observations\n",
    "true_a = 1.3\n",
    "true_b = 0.4\n",
    "data_x = (np.arange(100) / 99.0 - .5).astype(np.float32) # Chainer assumes all the cpu computation is done in float32\n",
    "data_y = (data_x * true_a + true_b + np.random.randn(*data_x.shape) * 0.1).astype(np.float32)\n",
    "_ = plt.scatter(data_x, data_y, c='b')"
   ]
  },
  {
   "cell_type": "markdown",
   "metadata": {},
   "source": [
    "Chainer provides an abstraction called `Link` that describe some computation and keeps track of parameters for it. For instance, a `Linear` link describes a linear map on input and keeps track of `w` and bias `b`."
   ]
  },
  {
   "cell_type": "code",
   "execution_count": 34,
   "metadata": {},
   "outputs": [
    {
     "name": "stdout",
     "output_type": "stream",
     "text": [
      "w: variable W([[ 0.47984031]])\n",
      "b: variable b([ 0.])\n",
      "Operations on chainer.Variable: variable([[ 123.47984314]]), type: <class 'chainer.variable.Variable'>\n",
      "numpy arrays: [[ 0.47984031]] [[ 123.47984314]]\n"
     ]
    }
   ],
   "source": [
    "model = L.Linear(in_size=1, out_size=1) # input is 1D data and output is also 1D data\n",
    "\n",
    "# Chainer will randomly initialize `w` and `b` for us.\n",
    "# we can take a look at their values\n",
    "print(\"w:\", model.W)\n",
    "print(\"b:\", model.b)\n",
    "\n",
    "# model.W and model.b have type `chainer.Variable`, \n",
    "#   which is a wrapper around Numpy array\n",
    "assert isinstance(model.W, chainer.Variable)\n",
    "\n",
    "# operations that involve `chainer.Variable` will produce\n",
    "#   `chainer.Variable` and this records the computation graph\n",
    "var_result = model.W + 123 # some random computation\n",
    "print(\"Operations on chainer.Variable: %s, type: %s\" % (var_result, type(var_result)))\n",
    "\n",
    "# the underlying numpy array can be accessed by `data` attribute\n",
    "print(\"numpy arrays:\", model.W.data, var_result.data)"
   ]
  },
  {
   "cell_type": "code",
   "execution_count": 5,
   "metadata": {},
   "outputs": [
    {
     "data": {
      "image/png": "[encoded data removed]",
      "text/plain": [
       "<matplotlib.figure.Figure at 0x1123d65f8>"
      ]
     },
     "metadata": {},
     "output_type": "display_data"
    }
   ],
   "source": [
    "# A chainer link is a callable object. calling it performs the\n",
    "#   forward computation. (in this case, it performs Wx + b)\n",
    "model_y = model(data_x[:, None]) # chainer's link usually assumes input is [Batch Size, Input Dimension]\n",
    "# `model_y` is a chainer variable so we use `.data` to access its numpy array for plotting\n",
    "\n",
    "# we can plot the model's current fit in red. it should be terrible because we haven't trained it yet\n",
    "_ = plt.plot(data_x, model_y.data[:,0], c='r')\n",
    "_ = plt.scatter(data_x, data_y, c='b')\n",
    "_ = plt.title(\"Initial model\")"
   ]
  },
  {
   "cell_type": "code",
   "execution_count": 41,
   "metadata": {},
   "outputs": [
    {
     "name": "stdout",
     "output_type": "stream",
     "text": [
      "loss variable(0.2438257485628128)\n",
      "dloss/dW [[-0.14079013]]\n"
     ]
    }
   ],
   "source": [
    "# now let's walk through how to perform forward computation\n",
    "#  and use AD to get gradients\n",
    "\n",
    "# first we clear the gradients that are stored in the model\n",
    "model.cleargrads()\n",
    "# as we have seen we can perform forward computation by calling the link\n",
    "model_y = model(data_x[:, None])\n",
    "\n",
    "# remember that `model_y` is a chainer variable. to operate on chainer variable\n",
    "#    we will use functions from chainer.functions to operate on those objects.\n",
    "loss = F.mean(F.square(model_y - data_y[:, None]))\n",
    "# `loss` is a scalar chainer variable\n",
    "assert isinstance(loss, chainer.Variable)\n",
    "print(\"loss\", loss)\n",
    "# # calculating gradients d loss /d params is as simple as\n",
    "loss.backward()\n",
    "\n",
    "# # we can inspect the gradient of loss with respect to W\n",
    "print(\"dloss/dW\", model.W.grad)"
   ]
  },
  {
   "cell_type": "markdown",
   "metadata": {},
   "source": [
    "Now that we know how to calculate gradients, we can code up a simple loop to perform gradient descent to train this model:\n",
    "\n",
    "(Hint: if you run into weird problems, maybe the state has been messed up and you can try re-runing all the code blocks from the beginning)"
   ]
  },
  {
   "cell_type": "code",
   "execution_count": 57,
   "metadata": {},
   "outputs": [
    {
     "name": "stdout",
     "output_type": "stream",
     "text": [
      "Itr 0 loss: variable(1.013093113899231)\n",
      "Itr 25 loss: variable(0.024003319442272186)\n",
      "Itr 50 loss: variable(0.014380289241671562)\n",
      "Itr 75 loss: variable(0.014267058111727238)\n"
     ]
    },
    {
     "data": {
      "image/png": "[encoded data removed]",
      "text/plain": [
       "<matplotlib.figure.Figure at 0x1150d82b0>"
      ]
     },
     "metadata": {},
     "output_type": "display_data"
    },
    {
     "data": {
      "image/png": "[encoded data removed]",
      "text/plain": [
       "<matplotlib.figure.Figure at 0x115a40ef0>"
      ]
     },
     "metadata": {},
     "output_type": "display_data"
    }
   ],
   "source": [
    "# now we can perform gradient descent to improve this model\n",
    "model = L.Linear(in_size=1, out_size=1)\n",
    "losses = []\n",
    "alpha = 5e-1\n",
    "\n",
    "for i in range(100):\n",
    "    model.cleargrads()\n",
    "    loss = F.mean(F.square(model(data_x[:, None]) - data_y[:, None]))\n",
    "    losses.append(float(loss.data))\n",
    "    ## *** YOUR CODE HERE TO PERFORM GRADIENT DESCENT ***\n",
    "    ## Hint: you could access gradients with model.W.grad, model.b.grad\n",
    "    ## Hint2: you could write data into a parameter with model.W.data[:] = some_numpy_array\n",
    "    ## Hint3: if your model doesn't learn, remember to try different learning rates\n",
    "    loss.backward()\n",
    "    model.W.data[:] = model.W.data[:] - alpha * model.W.grad\n",
    "    model.b.data[:] = model.b.data[:] - alpha * model.b.grad\n",
    "    if i % 25 == 0:\n",
    "        print(\"Itr\", i, \"loss:\", loss)\n",
    "plt.plot(np.array(losses))\n",
    "plt.title(\"Learning curve\")\n",
    "plt.figure()\n",
    "plt.plot(data_x, model(data_x[:, None])[:,0].data, c='r')\n",
    "plt.scatter(data_x, data_y, c='b')\n",
    "_ = plt.title(\"Trained model fitness\")\n"
   ]
  },
  {
   "cell_type": "markdown",
   "metadata": {},
   "source": [
    "## Train your first deep model\n",
    "\n",
    "Now we have learned the basics of Chainer. We can use it to train a deep model to classify MNIST digits. We will train a model on the MNIST dataset because the dataset is small.\n",
    "\n",
    "First we load the data and see what the images look like:"
   ]
  },
  {
   "cell_type": "code",
   "execution_count": 61,
   "metadata": {
    "scrolled": false
   },
   "outputs": [
    {
     "name": "stdout",
     "output_type": "stream",
     "text": [
      "train[i][0] is the ith image that's flattened, and has shape: (784,)\n",
      "train[i][1] is the ith image's label, such as: 3\n"
     ]
    },
    {
     "data": {
      "image/png": "[encoded data removed]",
      "text/plain": [
       "<matplotlib.figure.Figure at 0x1154cabe0>"
      ]
     },
     "metadata": {},
     "output_type": "display_data"
    },
    {
     "data": {
      "image/png": "[encoded data removed]",
      "text/plain": [
       "<matplotlib.figure.Figure at 0x10943fef0>"
      ]
     },
     "metadata": {},
     "output_type": "display_data"
    }
   ],
   "source": [
    "train, test = chainer.datasets.get_mnist()\n",
    "# use train[data_point_index] to access data\n",
    "print(\"train[i][0] is the ith image that's flattened, and has shape:\", train[12][0].shape)\n",
    "print(\"train[i][1] is the ith image's label, such as:\", train[12][1])\n",
    "# here we visualize two of them\n",
    "plt.imshow(train[12][0].reshape([28, 28,]))\n",
    "plt.title(\"Label: %s\" % train[12][1])\n",
    "plt.figure()\n",
    "plt.imshow(train[42][0].reshape([28, 28,]))\n",
    "_ = plt.title(\"Label: %s\" % train[42][1])"
   ]
  },
  {
   "cell_type": "markdown",
   "metadata": {},
   "source": [
    "Next we will provide some boilerplate code and train a linear classifier as an example:"
   ]
  },
  {
   "cell_type": "code",
   "execution_count": 68,
   "metadata": {},
   "outputs": [
    {
     "name": "stdout",
     "output_type": "stream",
     "text": [
      "accuracy: 0.0; loss: 2.42981219292\n",
      "accuracy: 0.845; loss: 0.652847933769\n",
      "accuracy: 0.9; loss: 0.444844279885\n",
      "accuracy: 0.9; loss: 0.385101518631\n",
      "accuracy: 0.9; loss: 0.349462399781\n",
      "accuracy: 0.925; loss: 0.305550562143\n",
      "accuracy: 0.895; loss: 0.382005818188\n",
      "accuracy: 0.9375; loss: 0.248903966546\n",
      "accuracy: 0.8825; loss: 0.325413396657\n",
      "accuracy: 0.9225; loss: 0.321717660427\n",
      "accuracy: 0.905; loss: 0.335925117135\n",
      "accuracy: 0.9025; loss: 0.343643483222\n",
      "accuracy: 0.89; loss: 0.349500617385\n",
      "accuracy: 0.92; loss: 0.284936084449\n",
      "accuracy: 0.955; loss: 0.193171919435\n",
      "accuracy: 0.9375; loss: 0.253402992189\n",
      "accuracy: 0.9175; loss: 0.309476939142\n",
      "accuracy: 0.8925; loss: 0.369760341644\n",
      "accuracy: 0.9025; loss: 0.348613027036\n",
      "accuracy: 0.9125; loss: 0.314886818528\n",
      "accuracy: 0.9325; loss: 0.259568337798\n",
      "accuracy: 0.915; loss: 0.295497347414\n",
      "accuracy: 0.8975; loss: 0.362460441589\n",
      "accuracy: 0.915; loss: 0.288983274698\n",
      "accuracy: 0.8975; loss: 0.340826042295\n",
      "accuracy: 0.905; loss: 0.260759868771\n"
     ]
    }
   ],
   "source": [
    "def run(model, batchsize=16, num_epochs=2):\n",
    "    \n",
    "    optimizer = chainer.optimizers.Adam() # we will use chainer's Adam implementation instead of writing our own gradient based optimization\n",
    "    optimizer.setup(model)\n",
    "    \n",
    "    stats = defaultdict(lambda: deque(maxlen=25))\n",
    "    for epoch in range(num_epochs):\n",
    "        train_iter = chainer.iterators.SerialIterator(train, batchsize, repeat=False, shuffle=True)\n",
    "        test_iter = chainer.iterators.SerialIterator(test, batchsize, repeat=False, shuffle=False)\n",
    "        \n",
    "        for itr, batch in enumerate(train_iter):\n",
    "            xs = np.concatenate([datum[0][None, :] for datum in batch])\n",
    "            ys = np.array([datum[1] for datum in batch])\n",
    "\n",
    "            logits = model(xs)\n",
    "\n",
    "            loss = F.softmax_cross_entropy(logits, ys)\n",
    "            model.cleargrads()\n",
    "            loss.backward()\n",
    "            optimizer.update()\n",
    "            \n",
    "            # calculate stats\n",
    "            stats[\"loss\"].append(float(loss.data))\n",
    "            stats[\"accuracy\"].append(float((logits.data.argmax(1) == ys).sum() / batchsize))\n",
    "            if itr % 300 == 0:\n",
    "                print(\"; \".join(\"%s: %s\" % (k, np.mean(vs)) for k, vs in stats.items()))\n",
    "\n",
    "# try a simple linear model\n",
    "run(L.Linear(None, 10))"
   ]
  },
  {
   "cell_type": "markdown",
   "metadata": {},
   "source": [
    "Next we will try to improve performance by training an MLP instead. A partial implementation is provided for you to fill in:"
   ]
  },
  {
   "cell_type": "code",
   "execution_count": 72,
   "metadata": {},
   "outputs": [
    {
     "name": "stdout",
     "output_type": "stream",
     "text": [
      "accuracy: 0.25; loss: 2.29268693924\n",
      "accuracy: 0.885; loss: 1.58644434452\n",
      "accuracy: 0.9075; loss: 1.54883655548\n",
      "accuracy: 0.9125; loss: 1.53672364712\n",
      "accuracy: 0.915; loss: 1.52509320259\n",
      "accuracy: 0.925; loss: 1.53215418816\n",
      "accuracy: 0.9575; loss: 1.50734755516\n",
      "accuracy: 0.94; loss: 1.51487043858\n",
      "accuracy: 0.9525; loss: 1.50130374908\n",
      "accuracy: 0.9425; loss: 1.51511573315\n",
      "accuracy: 0.9625; loss: 1.49152801991\n",
      "accuracy: 0.945; loss: 1.50596162319\n",
      "accuracy: 0.95; loss: 1.50178890705\n",
      "accuracy: 0.9525; loss: 1.49959259987\n",
      "accuracy: 0.96; loss: 1.49418603897\n",
      "accuracy: 0.9775; loss: 1.48478078842\n",
      "accuracy: 0.9525; loss: 1.50585097313\n",
      "accuracy: 0.965; loss: 1.49358641624\n",
      "accuracy: 0.9525; loss: 1.49806824684\n",
      "accuracy: 0.955; loss: 1.49858635426\n",
      "accuracy: 0.965; loss: 1.48770954609\n",
      "accuracy: 0.9575; loss: 1.49458732128\n",
      "accuracy: 0.9825; loss: 1.47839520931\n",
      "accuracy: 0.975; loss: 1.4813832283\n",
      "accuracy: 0.965; loss: 1.48339107513\n",
      "accuracy: 0.9625; loss: 1.48860238552\n"
     ]
    }
   ],
   "source": [
    "class MLP(chainer.Chain):\n",
    "\n",
    "    def __init__(self, n_units, n_out):\n",
    "        super(MLP, self).__init__()\n",
    "        with self.init_scope():\n",
    "            # the size of the inputs to each layer will be inferred\n",
    "            self.l1 = L.Linear(None, n_units)  # n_in -> n_units\n",
    "            self.l2 = L.Linear(None, n_units)  # n_units -> n_units\n",
    "            self.l3 = L.Linear(None, n_out)  # n_units -> n_out\n",
    "\n",
    "    def __call__(self, x):\n",
    "        # *** YOUR CODE HERE TO BUILD AN MLP W/ self.l1, self.l2, self.l3 ***\n",
    "        # \n",
    "        # Hint: you should make use of non-linearities / activation functions\n",
    "        #     https://docs.chainer.org/en/stable/reference/functions.html#activation-functions\n",
    "        \n",
    "        a = self.l1(x)\n",
    "        a = F.relu(a)\n",
    "        a = self.l2(a)\n",
    "        a = F.relu(a)\n",
    "        a = self.l3(a)\n",
    "        a = F.sigmoid(a)\n",
    "        \n",
    "        return(a)\n",
    "    \n",
    "run(MLP(200, 10))"
   ]
  },
  {
   "cell_type": "markdown",
   "metadata": {},
   "source": [
    "Next you should try to implement logging test loss and see if the model is overfitting."
   ]
  },
  {
   "cell_type": "code",
   "execution_count": null,
   "metadata": {},
   "outputs": [
    {
     "name": "stdout",
     "output_type": "stream",
     "text": [
      "loss: 2.2962577343; test_accuracy: 0.1988; train_accuracy: 0.0625\n",
      "loss: 1.56737453938; test_accuracy: 0.54475; train_accuracy: 0.905\n",
      "loss: 1.54873733521; test_accuracy: 0.664666666667; train_accuracy: 0.905\n",
      "loss: 1.54956347942; test_accuracy: 0.7296; train_accuracy: 0.9025\n",
      "loss: 1.53116075039; test_accuracy: 0.77092; train_accuracy: 0.925\n",
      "loss: 1.52466525555; test_accuracy: 0.79915; train_accuracy: 0.935\n",
      "loss: 1.5156247282; test_accuracy: 0.819728571429; train_accuracy: 0.9425\n",
      "loss: 1.50676341057; test_accuracy: 0.83565; train_accuracy: 0.95\n",
      "loss: 1.50028457165; test_accuracy: 0.847788888889; train_accuracy: 0.96\n",
      "loss: 1.51588807106; test_accuracy: 0.8582; train_accuracy: 0.93\n",
      "loss: 1.4944556284; test_accuracy: 0.867227272727; train_accuracy: 0.9625\n",
      "loss: 1.5021319437; test_accuracy: 0.874708333333; train_accuracy: 0.96\n",
      "loss: 1.50728237629; test_accuracy: 0.8809; train_accuracy: 0.95\n",
      "loss: 1.48034576416; test_accuracy: 0.886028571429; train_accuracy: 0.9825\n",
      "loss: 1.49916518211; test_accuracy: 0.890873333333; train_accuracy: 0.9525\n",
      "loss: 1.51739243507; test_accuracy: 0.89516875; train_accuracy: 0.93\n",
      "loss: 1.49731777191; test_accuracy: 0.898911764706; train_accuracy: 0.96\n",
      "loss: 1.50178203106; test_accuracy: 0.902311111111; train_accuracy: 0.95\n",
      "loss: 1.48510570049; test_accuracy: 0.9055; train_accuracy: 0.9775\n",
      "loss: 1.50709171295; test_accuracy: 0.90789; train_accuracy: 0.94\n",
      "loss: 1.48669472694; test_accuracy: 0.910657142857; train_accuracy: 0.9775\n",
      "loss: 1.49851625443; test_accuracy: 0.912886363636; train_accuracy: 0.9425\n",
      "loss: 1.48571593285; test_accuracy: 0.914926086957; train_accuracy: 0.9575\n",
      "loss: 1.49577510357; test_accuracy: 0.917045833333; train_accuracy: 0.95\n",
      "loss: 1.49683822155; test_accuracy: 0.919084; train_accuracy: 0.95\n"
     ]
    }
   ],
   "source": [
    "def better_run(model, batchsize=16, num_epochs=2):\n",
    "\n",
    "    optimizer = chainer.optimizers.Adam() # we will use chainer's Adam implementation instead of writing our own gradient based optimization\n",
    "    optimizer.setup(model)\n",
    "    \n",
    "    stats = defaultdict(lambda: deque(maxlen=25))\n",
    "    for epoch in range(num_epochs):\n",
    "        train_iter = chainer.iterators.SerialIterator(train, batchsize, repeat=False, shuffle=True)\n",
    "        \n",
    "        for itr, batch in enumerate(train_iter):\n",
    "            xs = np.concatenate([datum[0][None, :] for datum in batch])\n",
    "            ys = np.array([datum[1] for datum in batch])\n",
    "\n",
    "            logits = model(xs)\n",
    "\n",
    "            loss = F.softmax_cross_entropy(logits, ys)\n",
    "            model.cleargrads()\n",
    "            loss.backward()\n",
    "            optimizer.update()\n",
    "            \n",
    "            # calculate stats\n",
    "            stats[\"loss\"].append(float(loss.data))\n",
    "            stats[\"train_accuracy\"].append(float((logits.data.argmax(1) == ys).sum() / batchsize))\n",
    "            if itr % 300 == 0:\n",
    "                test_iter = chainer.iterators.SerialIterator(test, 10000, repeat=False, shuffle=False)\n",
    "                # *** YOUR CODE implement logging of stats on test set ***\n",
    "                for test_itr, test_batch in enumerate(test_iter):\n",
    "                    xs_test = np.concatenate([datum[0][None, :] for datum in test_batch])\n",
    "                    ys_test = np.array([datum[1] for datum in test_batch])\n",
    "                    y_hat_test = model(xs_test)\n",
    "                    stats[\"test_accuracy\"].append(float((y_hat_test.data.argmax(1) == ys_test).sum() / 10000))\n",
    "\n",
    "                print(\"; \".join(\"%s: %s\" % (k, np.mean(vs)) for k, vs in stats.items()))\n",
    "\n",
    "better_run(MLP(200, 10))"
   ]
  },
  {
   "cell_type": "markdown",
   "metadata": {},
   "source": [
    "Try different variants!\n",
    "\n",
    "- Does using a ConvNet improve performance (reduce overfitting?)\n",
    "- Try changing the learning rate and observe the effect\n",
    "- Does the model train if you give it correlated gradients? (consecutively sample many batches of \"1\", then many batches of \"2\", ... etc"
   ]
  }
 ],
 "metadata": {
  "kernelspec": {
   "display_name": "Python 3",
   "language": "python",
   "name": "python3"
  },
  "language_info": {
   "codemirror_mode": {
    "name": "ipython",
    "version": 3
   },
   "file_extension": ".py",
   "mimetype": "text/x-python",
   "name": "python",
   "nbconvert_exporter": "python",
   "pygments_lexer": "ipython3",
   "version": "3.5.3"
  }
 },
 "nbformat": 4,
 "nbformat_minor": 1
}

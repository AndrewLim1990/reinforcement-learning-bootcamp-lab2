{
 "cells": [
  {
   "cell_type": "code",
   "execution_count": 1,
   "metadata": {
    "collapsed": true
   },
   "outputs": [],
   "source": [
    "\"\"\"\n",
    "This project was developed by Peter Chen, Rocky Duan, Pieter Abbeel for the Berkeley Deep RL Bootcamp, August 2017.\n",
    "Bootcamp website with slides and lecture videos: https://sites.google.com/view/deep-rl-bootcamp/.\n",
    "\n",
    "Code adapted from Stanford CS231N materials: http://cs231n.stanford.edu/\n",
    "\"\"\"\n",
    "\n",
    "\n",
    "# note to properly run this lab, you should execute all code blocks sequentially\n",
    "import chainer\n",
    "import chainer.functions as F\n",
    "import chainer.links as L\n",
    "from chainer import training\n",
    "from chainer.training import extensions\n",
    "\n",
    "from collections import namedtuple, defaultdict, deque\n",
    "\n",
    "import numpy as np\n",
    "\n",
    "%matplotlib inline\n",
    "\n",
    "import matplotlib\n",
    "import matplotlib.pyplot as plt"
   ]
  },
  {
   "cell_type": "markdown",
   "metadata": {},
   "source": [
    "## Introduction to Chainer\n",
    "\n",
    "Chainer can be understood as Numpy plus the ability to record the computation graph of numerical operations to enable Automatic Differentiation. (Chainer actually also offers many other things; for example, a Numpy equivalent library that runs on GPU, but we will ignore them for now)"
   ]
  },
  {
   "cell_type": "markdown",
   "metadata": {},
   "source": [
    "Let's illustrate how Chainer works by a simple 1D regression task.\n",
    "\n",
    "Suppose we have observations from the following model $y = w x + b + \\epsilon$ where $\\epsilon \\sim \\mathcal{N}(0, 0.1)$ and the task is to estimate the linear model parameters $w, b$ from data."
   ]
  },
  {
   "cell_type": "code",
   "execution_count": 2,
   "metadata": {},
   "outputs": [
    {
     "data": {
      "image/png": "[encoded data removed]",
      "text/plain": [
       "<matplotlib.figure.Figure at 0x113d66f28>"
      ]
     },
     "metadata": {},
     "output_type": "display_data"
    }
   ],
   "source": [
    "# first generate some observations\n",
    "true_a = 1.3\n",
    "true_b = 0.4\n",
    "data_x = (np.arange(100) / 99.0 - .5).astype(np.float32) # Chainer assumes all the cpu computation is done in float32\n",
    "data_y = (data_x * true_a + true_b + np.random.randn(*data_x.shape) * 0.1).astype(np.float32)\n",
    "_ = plt.scatter(data_x, data_y, c='b')"
   ]
  },
  {
   "cell_type": "markdown",
   "metadata": {},
   "source": [
    "Chainer provides an abstraction called `Link` that describe some computation and keeps track of parameters for it. For instance, a `Linear` link describes a linear map on input and keeps track of `w` and bias `b`."
   ]
  },
  {
   "cell_type": "code",
   "execution_count": 3,
   "metadata": {},
   "outputs": [
    {
     "name": "stdout",
     "output_type": "stream",
     "text": [
      "w: variable W([[ 0.86363727]])\n",
      "b: variable b([ 0.])\n",
      "Operations on chainer.Variable: variable([[ 123.86363983]]), type: <class 'chainer.variable.Variable'>\n",
      "numpy arrays: [[ 0.86363727]] [[ 123.86363983]]\n"
     ]
    }
   ],
   "source": [
    "model = L.Linear(in_size=1, out_size=1) # input is 1D data and output is also 1D data\n",
    "\n",
    "# Chainer will randomly initialize `w` and `b` for us.\n",
    "# we can take a look at their values\n",
    "print(\"w:\", model.W)\n",
    "print(\"b:\", model.b)\n",
    "\n",
    "# model.W and model.b have type `chainer.Variable`, \n",
    "#   which is a wrapper around Numpy array\n",
    "assert isinstance(model.W, chainer.Variable)\n",
    "\n",
    "# operations that involve `chainer.Variable` will produce\n",
    "#   `chainer.Variable` and this records the computation graph\n",
    "var_result = model.W + 123 # some random computation\n",
    "print(\"Operations on chainer.Variable: %s, type: %s\" % (var_result, type(var_result)))\n",
    "\n",
    "# the underlying numpy array can be accessed by `data` attribute\n",
    "print(\"numpy arrays:\", model.W.data, var_result.data)"
   ]
  },
  {
   "cell_type": "code",
   "execution_count": 4,
   "metadata": {},
   "outputs": [
    {
     "data": {
      "image/png": "[encoded data removed]",
      "text/plain": [
       "<matplotlib.figure.Figure at 0x119601b00>"
      ]
     },
     "metadata": {},
     "output_type": "display_data"
    }
   ],
   "source": [
    "# A chainer link is a callable object. calling it performs the\n",
    "#   forward computation. (in this case, it performs Wx + b)\n",
    "model_y = model(data_x[:, None]) # chainer's link usually assumes input is [Batch Size, Input Dimension]\n",
    "# `model_y` is a chainer variable so we use `.data` to access its numpy array for plotting\n",
    "\n",
    "# we can plot the model's current fit in red. it should be terrible because we haven't trained it yet\n",
    "_ = plt.plot(data_x, model_y.data[:,0], c='r')\n",
    "_ = plt.scatter(data_x, data_y, c='b')\n",
    "_ = plt.title(\"Initial model\")"
   ]
  },
  {
   "cell_type": "code",
   "execution_count": 5,
   "metadata": {},
   "outputs": [
    {
     "name": "stdout",
     "output_type": "stream",
     "text": [
      "loss variable(0.1821935921907425)\n",
      "dloss/dW [[-0.07311337]]\n"
     ]
    }
   ],
   "source": [
    "# now let's walk through how to perform forward computation\n",
    "#  and use AD to get gradients\n",
    "\n",
    "# first we clear the gradients that are stored in the model\n",
    "model.cleargrads()\n",
    "# as we have seen we can perform forward computation by calling the link\n",
    "model_y = model(data_x[:, None])\n",
    "\n",
    "# remember that `model_y` is a chainer variable. to operate on chainer variable\n",
    "#    we will use functions from chainer.functions to operate on those objects.\n",
    "loss = F.mean(F.square(model_y - data_y[:, None]))\n",
    "# `loss` is a scalar chainer variable\n",
    "assert isinstance(loss, chainer.Variable)\n",
    "print(\"loss\", loss)\n",
    "# # calculating gradients d loss /d params is as simple as\n",
    "loss.backward()\n",
    "\n",
    "# # we can inspect the gradient of loss with respect to W\n",
    "print(\"dloss/dW\", model.W.grad)"
   ]
  },
  {
   "cell_type": "markdown",
   "metadata": {},
   "source": [
    "Now that we know how to calculate gradients, we can code up a simple loop to perform gradient descent to train this model:\n",
    "\n",
    "(Hint: if you run into weird problems, maybe the state has been messed up and you can try re-runing all the code blocks from the beginning)"
   ]
  },
  {
   "cell_type": "code",
   "execution_count": 6,
   "metadata": {},
   "outputs": [
    {
     "name": "stdout",
     "output_type": "stream",
     "text": [
      "Itr 0 loss: variable(0.24970190227031708)\n",
      "Itr 25 loss: variable(0.010767119936645031)\n",
      "Itr 50 loss: variable(0.009799331426620483)\n",
      "Itr 75 loss: variable(0.009787943214178085)\n"
     ]
    },
    {
     "data": {
      "image/png": "[encoded data removed]",
      "text/plain": [
       "<matplotlib.figure.Figure at 0x119735128>"
      ]
     },
     "metadata": {},
     "output_type": "display_data"
    },
    {
     "data": {
      "image/png": "[encoded data removed]",
      "text/plain": [
       "<matplotlib.figure.Figure at 0x119616630>"
      ]
     },
     "metadata": {},
     "output_type": "display_data"
    }
   ],
   "source": [
    "# now we can perform gradient descent to improve this model\n",
    "model = L.Linear(in_size=1, out_size=1)\n",
    "losses = []\n",
    "alpha = 5e-1\n",
    "\n",
    "for i in range(100):\n",
    "    model.cleargrads()\n",
    "    loss = F.mean(F.square(model(data_x[:, None]) - data_y[:, None]))\n",
    "    losses.append(float(loss.data))\n",
    "    ## *** YOUR CODE HERE TO PERFORM GRADIENT DESCENT ***\n",
    "    ## Hint: you could access gradients with model.W.grad, model.b.grad\n",
    "    ## Hint2: you could write data into a parameter with model.W.data[:] = some_numpy_array\n",
    "    ## Hint3: if your model doesn't learn, remember to try different learning rates\n",
    "    loss.backward()\n",
    "    model.W.data[:] = model.W.data[:] - alpha * model.W.grad\n",
    "    model.b.data[:] = model.b.data[:] - alpha * model.b.grad\n",
    "    if i % 25 == 0:\n",
    "        print(\"Itr\", i, \"loss:\", loss)\n",
    "plt.plot(np.array(losses))\n",
    "plt.title(\"Learning curve\")\n",
    "plt.figure()\n",
    "plt.plot(data_x, model(data_x[:, None])[:,0].data, c='r')\n",
    "plt.scatter(data_x, data_y, c='b')\n",
    "_ = plt.title(\"Trained model fitness\")\n"
   ]
  },
  {
   "cell_type": "markdown",
   "metadata": {},
   "source": [
    "## Train your first deep model\n",
    "\n",
    "Now we have learned the basics of Chainer. We can use it to train a deep model to classify MNIST digits. We will train a model on the MNIST dataset because the dataset is small.\n",
    "\n",
    "First we load the data and see what the images look like:"
   ]
  },
  {
   "cell_type": "code",
   "execution_count": 7,
   "metadata": {
    "scrolled": false
   },
   "outputs": [
    {
     "name": "stdout",
     "output_type": "stream",
     "text": [
      "train[i][0] is the ith image that's flattened, and has shape: (784,)\n",
      "train[i][1] is the ith image's label, such as: 3\n"
     ]
    },
    {
     "data": {
      "image/png": "[encoded data removed]",
      "text/plain": [
       "<matplotlib.figure.Figure at 0x1197389e8>"
      ]
     },
     "metadata": {},
     "output_type": "display_data"
    },
    {
     "data": {
      "image/png": "[encoded data removed]",
      "text/plain": [
       "<matplotlib.figure.Figure at 0x11997a470>"
      ]
     },
     "metadata": {},
     "output_type": "display_data"
    }
   ],
   "source": [
    "train, test = chainer.datasets.get_mnist()\n",
    "# use train[data_point_index] to access data\n",
    "print(\"train[i][0] is the ith image that's flattened, and has shape:\", train[12][0].shape)\n",
    "print(\"train[i][1] is the ith image's label, such as:\", train[12][1])\n",
    "# here we visualize two of them\n",
    "plt.imshow(train[12][0].reshape([28, 28,]))\n",
    "plt.title(\"Label: %s\" % train[12][1])\n",
    "plt.figure()\n",
    "plt.imshow(train[42][0].reshape([28, 28,]))\n",
    "_ = plt.title(\"Label: %s\" % train[42][1])"
   ]
  },
  {
   "cell_type": "markdown",
   "metadata": {},
   "source": [
    "Next we will provide some boilerplate code and train a linear classifier as an example:"
   ]
  },
  {
   "cell_type": "code",
   "execution_count": 8,
   "metadata": {},
   "outputs": [
    {
     "name": "stdout",
     "output_type": "stream",
     "text": [
      "accuracy: 0.3125; loss: 2.33354210854\n",
      "accuracy: 0.84; loss: 0.666973898411\n",
      "accuracy: 0.8775; loss: 0.45563495338\n",
      "accuracy: 0.8825; loss: 0.417605181336\n",
      "accuracy: 0.9125; loss: 0.386369987726\n",
      "accuracy: 0.8925; loss: 0.321648621559\n",
      "accuracy: 0.915; loss: 0.293047562838\n",
      "accuracy: 0.9275; loss: 0.269595483541\n",
      "accuracy: 0.925; loss: 0.284043738544\n",
      "accuracy: 0.8825; loss: 0.35443046689\n",
      "accuracy: 0.915; loss: 0.293197929263\n",
      "accuracy: 0.9425; loss: 0.278626610637\n",
      "accuracy: 0.9; loss: 0.342242094576\n",
      "accuracy: 0.925; loss: 0.254041775763\n",
      "accuracy: 0.92; loss: 0.305933393836\n",
      "accuracy: 0.9275; loss: 0.275326661468\n",
      "accuracy: 0.9175; loss: 0.237402839065\n",
      "accuracy: 0.9375; loss: 0.27956410408\n",
      "accuracy: 0.905; loss: 0.281876940727\n",
      "accuracy: 0.925; loss: 0.294453396797\n",
      "accuracy: 0.9175; loss: 0.301120150685\n",
      "accuracy: 0.9375; loss: 0.252889250219\n",
      "accuracy: 0.92; loss: 0.26290433079\n",
      "accuracy: 0.9175; loss: 0.341786696911\n",
      "accuracy: 0.9075; loss: 0.285351181328\n",
      "accuracy: 0.9225; loss: 0.358137912154\n"
     ]
    }
   ],
   "source": [
    "def run(model, batchsize=16, num_epochs=2):\n",
    "    \n",
    "    optimizer = chainer.optimizers.Adam() # we will use chainer's Adam implementation instead of writing our own gradient based optimization\n",
    "    optimizer.setup(model)\n",
    "    \n",
    "    stats = defaultdict(lambda: deque(maxlen=25))\n",
    "    for epoch in range(num_epochs):\n",
    "        train_iter = chainer.iterators.SerialIterator(train, batchsize, repeat=False, shuffle=True)\n",
    "        test_iter = chainer.iterators.SerialIterator(test, batchsize, repeat=False, shuffle=False)\n",
    "        \n",
    "        for itr, batch in enumerate(train_iter):\n",
    "            xs = np.concatenate([datum[0][None, :] for datum in batch])\n",
    "            ys = np.array([datum[1] for datum in batch])\n",
    "\n",
    "            logits = model(xs)\n",
    "\n",
    "            loss = F.softmax_cross_entropy(logits, ys)\n",
    "            model.cleargrads()\n",
    "            loss.backward()\n",
    "            optimizer.update()\n",
    "            \n",
    "            # calculate stats\n",
    "            stats[\"loss\"].append(float(loss.data))\n",
    "            stats[\"accuracy\"].append(float((logits.data.argmax(1) == ys).sum() / batchsize))\n",
    "            if itr % 300 == 0:\n",
    "                print(\"; \".join(\"%s: %s\" % (k, np.mean(vs)) for k, vs in stats.items()))\n",
    "\n",
    "# try a simple linear model\n",
    "run(L.Linear(None, 10))"
   ]
  },
  {
   "cell_type": "markdown",
   "metadata": {},
   "source": [
    "Next we will try to improve performance by training an MLP instead. A partial implementation is provided for you to fill in:"
   ]
  },
  {
   "cell_type": "code",
   "execution_count": 9,
   "metadata": {},
   "outputs": [
    {
     "name": "stdout",
     "output_type": "stream",
     "text": [
      "accuracy: 0.0; loss: 2.34943652153\n",
      "accuracy: 0.8775; loss: 0.400125802159\n",
      "accuracy: 0.9075; loss: 0.278627101183\n",
      "accuracy: 0.94; loss: 0.226369383931\n",
      "accuracy: 0.96; loss: 0.175905616283\n",
      "accuracy: 0.9625; loss: 0.126990064383\n",
      "accuracy: 0.94; loss: 0.192292584777\n",
      "accuracy: 0.9575; loss: 0.122997484207\n",
      "accuracy: 0.9675; loss: 0.123249008954\n",
      "accuracy: 0.945; loss: 0.12055459857\n",
      "accuracy: 0.97; loss: 0.133945389986\n",
      "accuracy: 0.9625; loss: 0.11851452291\n",
      "accuracy: 0.9575; loss: 0.14017523855\n",
      "accuracy: 0.9575; loss: 0.12588457346\n",
      "accuracy: 0.9725; loss: 0.0944920328259\n",
      "accuracy: 0.9725; loss: 0.077819634974\n",
      "accuracy: 0.9775; loss: 0.0736429896951\n",
      "accuracy: 0.97; loss: 0.0949236512184\n",
      "accuracy: 0.975; loss: 0.0627229633927\n",
      "accuracy: 0.9825; loss: 0.0549484285712\n",
      "accuracy: 0.9725; loss: 0.0736542490125\n",
      "accuracy: 0.9675; loss: 0.106644312441\n",
      "accuracy: 0.9475; loss: 0.154100881815\n",
      "accuracy: 0.9675; loss: 0.0989812231064\n",
      "accuracy: 0.985; loss: 0.0429878130555\n",
      "accuracy: 0.9725; loss: 0.11186991483\n"
     ]
    }
   ],
   "source": [
    "class MLP(chainer.Chain):\n",
    "\n",
    "    def __init__(self, n_units, n_out):\n",
    "        super(MLP, self).__init__()\n",
    "        with self.init_scope():\n",
    "            # the size of the inputs to each layer will be inferred\n",
    "            self.l1 = L.Linear(None, n_units)  # n_in -> n_units\n",
    "            self.l2 = L.Linear(None, n_units)  # n_units -> n_units\n",
    "            self.l3 = L.Linear(None, n_out)  # n_units -> n_out\n",
    "\n",
    "    def __call__(self, x):\n",
    "        # *** YOUR CODE HERE TO BUILD AN MLP W/ self.l1, self.l2, self.l3 ***\n",
    "        # \n",
    "        # Hint: you should make use of non-linearities / activation functions\n",
    "        #     https://docs.chainer.org/en/stable/reference/functions.html#activation-functions\n",
    "        \n",
    "        a = self.l1(x)\n",
    "        a = F.relu(a)\n",
    "        a = self.l2(a)\n",
    "        a = F.relu(a)\n",
    "        a = self.l3(a)\n",
    "        \n",
    "        return(a)\n",
    "    \n",
    "run(MLP(200, 10))"
   ]
  },
  {
   "cell_type": "markdown",
   "metadata": {},
   "source": [
    "Next you should try to implement logging test loss and see if the model is overfitting."
   ]
  },
  {
   "cell_type": "code",
   "execution_count": 10,
   "metadata": {},
   "outputs": [
    {
     "name": "stdout",
     "output_type": "stream",
     "text": [
      "test_accuracy: 0.165; \ttrain_accuracy: 0.125; \tloss: 2.32580637932\n",
      "test_accuracy: 0.53835; \ttrain_accuracy: 0.8925; \tloss: 0.285096779466\n",
      "test_accuracy: 0.669366666667; \ttrain_accuracy: 0.9275; \tloss: 0.23528711617\n",
      "test_accuracy: 0.727025; \ttrain_accuracy: 0.925; \tloss: 0.267812491655\n",
      "test_accuracy: 0.77126; \ttrain_accuracy: 0.94; \tloss: 0.231691470742\n",
      "test_accuracy: 0.801583333333; \ttrain_accuracy: 0.9575; \tloss: 0.162268467844\n",
      "test_accuracy: 0.823528571429; \ttrain_accuracy: 0.945; \tloss: 0.158969264925\n",
      "test_accuracy: 0.8402375; \ttrain_accuracy: 0.935; \tloss: 0.217742336392\n",
      "test_accuracy: 0.852755555556; \ttrain_accuracy: 0.9375; \tloss: 0.197923049927\n",
      "test_accuracy: 0.86342; \ttrain_accuracy: 0.9425; \tloss: 0.21289268434\n",
      "test_accuracy: 0.872618181818; \ttrain_accuracy: 0.945; \tloss: 0.145793526471\n",
      "test_accuracy: 0.88; \ttrain_accuracy: 0.9575; \tloss: 0.0977956745028\n",
      "test_accuracy: 0.886730769231; \ttrain_accuracy: 0.95; \tloss: 0.196898228526\n",
      "test_accuracy: 0.8919; \ttrain_accuracy: 0.9475; \tloss: 0.160479911566\n",
      "test_accuracy: 0.896753333333; \ttrain_accuracy: 0.97; \tloss: 0.101970161796\n",
      "test_accuracy: 0.90141875; \ttrain_accuracy: 0.975; \tloss: 0.0550874787569\n",
      "test_accuracy: 0.905447058824; \ttrain_accuracy: 0.97; \tloss: 0.0962114781141\n",
      "test_accuracy: 0.909238888889; \ttrain_accuracy: 0.97; \tloss: 0.0807344603539\n",
      "test_accuracy: 0.912221052632; \ttrain_accuracy: 0.97; \tloss: 0.0889978304505\n",
      "test_accuracy: 0.91526; \ttrain_accuracy: 0.965; \tloss: 0.100346836448\n",
      "test_accuracy: 0.918019047619; \ttrain_accuracy: 0.9825; \tloss: 0.0790492981672\n",
      "test_accuracy: 0.920472727273; \ttrain_accuracy: 0.9775; \tloss: 0.0766620761156\n",
      "test_accuracy: 0.922804347826; \ttrain_accuracy: 0.9725; \tloss: 0.0864976811409\n",
      "test_accuracy: 0.924666666667; \ttrain_accuracy: 0.9775; \tloss: 0.0825192898512\n",
      "test_accuracy: 0.926424; \ttrain_accuracy: 0.9775; \tloss: 0.0760837984085\n",
      "test_accuracy: 0.958676; \ttrain_accuracy: 0.9825; \tloss: 0.0683108973503\n"
     ]
    }
   ],
   "source": [
    "def better_run(model, batchsize=16, num_epochs=2):\n",
    "\n",
    "    optimizer = chainer.optimizers.Adam() # we will use chainer's Adam implementation instead of writing our own gradient based optimization\n",
    "    optimizer.setup(model)\n",
    "    \n",
    "    stats = defaultdict(lambda: deque(maxlen=25))\n",
    "    for epoch in range(num_epochs):\n",
    "        train_iter = chainer.iterators.SerialIterator(train, batchsize, repeat=False, shuffle=True)\n",
    "        \n",
    "        for itr, batch in enumerate(train_iter):\n",
    "            xs = np.concatenate([datum[0][None, :] for datum in batch])\n",
    "            ys = np.array([datum[1] for datum in batch])\n",
    "\n",
    "            logits = model(xs)\n",
    "\n",
    "            loss = F.softmax_cross_entropy(logits, ys)\n",
    "            model.cleargrads()\n",
    "            loss.backward()\n",
    "            optimizer.update()\n",
    "            \n",
    "            # calculate stats\n",
    "            stats[\"loss\"].append(float(loss.data))\n",
    "            stats[\"train_accuracy\"].append(float((logits.data.argmax(1) == ys).sum() / batchsize))\n",
    "            if itr % 300 == 0:\n",
    "                test_iter = chainer.iterators.SerialIterator(test, 10000, repeat=False, shuffle=False)\n",
    "                # *** YOUR CODE implement logging of stats on test set ***\n",
    "                for test_itr, test_batch in enumerate(test_iter):\n",
    "                    xs_test = np.concatenate([datum[0][None, :] for datum in test_batch])\n",
    "                    ys_test = np.array([datum[1] for datum in test_batch])\n",
    "                    y_hat_test = model(xs_test)\n",
    "                    stats[\"test_accuracy\"].append(float((y_hat_test.data.argmax(1) == ys_test).sum() / 10000))\n",
    "\n",
    "                print(\"; \\t\".join(\"%s: %s\" % (k, np.mean(vs)) for k, vs in stats.items()))\n",
    "\n",
    "better_run(MLP(200, 10))"
   ]
  },
  {
   "cell_type": "markdown",
   "metadata": {},
   "source": [
    "Try different variants!\n",
    "\n",
    "- Does using a ConvNet improve performance (reduce overfitting?)\n",
    "- Try changing the learning rate and observe the effect\n",
    "- Does the model train if you give it correlated gradients? (consecutively sample many batches of \"1\", then many batches of \"2\", ... etc"
   ]
  }
 ],
 "metadata": {
  "kernelspec": {
   "display_name": "Python 3",
   "language": "python",
   "name": "python3"
  },
  "language_info": {
   "codemirror_mode": {
    "name": "ipython",
    "version": 3
   },
   "file_extension": ".py",
   "mimetype": "text/x-python",
   "name": "python",
   "nbconvert_exporter": "python",
   "pygments_lexer": "ipython3",
   "version": "3.5.3"
  }
 },
 "nbformat": 4,
 "nbformat_minor": 1
}
